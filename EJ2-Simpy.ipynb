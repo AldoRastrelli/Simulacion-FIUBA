{
 "cells": [
  {
   "cell_type": "code",
   "execution_count": 928,
   "id": "93eb2046",
   "metadata": {},
   "outputs": [
    {
     "name": "stdout",
     "output_type": "stream",
     "text": [
      "Requirement already satisfied: simpy in /home/eleonoraluna/anaconda3/lib/python3.8/site-packages (4.0.1)\r\n"
     ]
    }
   ],
   "source": [
    "!pip install simpy"
   ]
  },
  {
   "cell_type": "code",
   "execution_count": 929,
   "id": "5f131b60",
   "metadata": {},
   "outputs": [],
   "source": [
    "import simpy\n",
    "import random\n",
    "import numpy as np\n",
    "from random import randint"
   ]
  },
  {
   "cell_type": "code",
   "execution_count": 930,
   "id": "1554874e",
   "metadata": {},
   "outputs": [],
   "source": [
    "TOTAL_SIM = 100  # number of simulations\n",
    "MINUTES_IN_DAY = 1440 # 1 day -> 1440 MIN\n",
    "ARRIVAL_RATE = 2"
   ]
  },
  {
   "cell_type": "code",
   "execution_count": 931,
   "id": "d2cd07b5",
   "metadata": {},
   "outputs": [],
   "source": [
    "class xorshift:\n",
    "    max64bit = (2**64) \n",
    " \n",
    "    def __init__(self,seed):\n",
    "        self.seed = seed % self.max64bit\n",
    "\n",
    "    def rand(self):\n",
    "        # a=13 b=7 c=17\n",
    "        # Python no tiene limite de valores para int asi que aplico modulo de 64 bits\n",
    "        # para simular el comportamiento de C y tener periodo de (2^64 - 1) ----> Confirmado: Hay que imitar la implementacion del paper\n",
    "        self.seed = (self.seed ^ (self.seed << 13)) % self.max64bit\n",
    "        self.seed = (self.seed ^ (self.seed >> 7)) % self.max64bit\n",
    "        self.seed = (self.seed ^ (self.seed << 17)) % self.max64bit\n",
    "\n",
    "        return self.seed\n",
    "    # Dividimos por el módulo para obtener valores en [0,1]\n",
    "    def uniform_rand(self):\n",
    "        return self.rand()/self.max64bit\n",
    "\n",
    "    def uniform_rand_seconds_in_day(self):\n",
    "        return int(self.uniform_rand() * MINUTES_IN_DAY)"
   ]
  },
  {
   "cell_type": "code",
   "execution_count": 932,
   "id": "3ada5f39",
   "metadata": {},
   "outputs": [
    {
     "ename": "NameError",
     "evalue": "name 'time' is not defined",
     "output_type": "error",
     "traceback": [
      "\u001b[0;31m---------------------------------------------------------------------------\u001b[0m",
      "\u001b[0;31mNameError\u001b[0m                                 Traceback (most recent call last)",
      "\u001b[0;32m<ipython-input-932-44a63bd6c9a1>\u001b[0m in \u001b[0;36m<module>\u001b[0;34m\u001b[0m\n\u001b[0;32m----> 1\u001b[0;31m \u001b[0mrng\u001b[0m \u001b[0;34m=\u001b[0m \u001b[0mxorshift\u001b[0m\u001b[0;34m(\u001b[0m\u001b[0mint\u001b[0m\u001b[0;34m(\u001b[0m\u001b[0mtime\u001b[0m\u001b[0;34m.\u001b[0m\u001b[0mtime\u001b[0m\u001b[0;34m(\u001b[0m\u001b[0;34m)\u001b[0m\u001b[0;34m)\u001b[0m\u001b[0;34m)\u001b[0m\u001b[0;34m\u001b[0m\u001b[0;34m\u001b[0m\u001b[0m\n\u001b[0m",
      "\u001b[0;31mNameError\u001b[0m: name 'time' is not defined"
     ]
    }
   ],
   "source": [
    "rng = xorshift(int(time.time()))"
   ]
  },
  {
   "cell_type": "code",
   "execution_count": null,
   "id": "8134ab27",
   "metadata": {},
   "outputs": [],
   "source": [
    "class RandOp:\n",
    "    \n",
    "    # m:modulus\n",
    "    # a:multiplier\n",
    "    # c:increment\n",
    "    m = 2**32\n",
    "    a = 1013904223\n",
    "    c = 1664525\n",
    "    xn = int((97576+93956+104093+96444+98408)/5)\n",
    "    \n",
    "    def rand(self):\n",
    "        self.xn = (self.a*self.xn + self.c)%self.m\n",
    "        return self.xn\n",
    "    \n",
    "    # Dividimos por el módulo para obtener valores en [0,1]\n",
    "    def uniform_rand(self):\n",
    "        return self.rand()/self.m\n",
    "    \n",
    "    def uniform_rand_seconds_in_day(self):\n",
    "        return int (self.uniform_rand() * MINUTES_IN_DAY)"
   ]
  },
  {
   "cell_type": "code",
   "execution_count": null,
   "id": "c0d6f000",
   "metadata": {},
   "outputs": [],
   "source": [
    "randOp= RandOp()"
   ]
  },
  {
   "cell_type": "code",
   "execution_count": null,
   "id": "2dc8cf3b",
   "metadata": {},
   "outputs": [],
   "source": [
    "def python_random():\n",
    "    return randint(0,MINUTES_IN_DAY)"
   ]
  },
  {
   "cell_type": "code",
   "execution_count": null,
   "id": "d994c735",
   "metadata": {},
   "outputs": [],
   "source": [
    "class Stats:\n",
    "    def __init__(self):\n",
    "        self.maxRequestsWaiting = 0\n",
    "        self.maxTimeWaiting = 0\n",
    "        self.requestCounter = 0"
   ]
  },
  {
   "cell_type": "code",
   "execution_count": null,
   "id": "9d4e93a4",
   "metadata": {},
   "outputs": [],
   "source": [
    "class Request:\n",
    "    def __init__(self, env,number, random_func):\n",
    "        self.number = number\n",
    "        self.env = env\n",
    "        self.rand_op=random_func\n",
    "    def process(self):\n",
    "        yield self.env.timeout(self.rand_op()) #lo que tardara en ser procesada"
   ]
  },
  {
   "cell_type": "code",
   "execution_count": null,
   "id": "a252b302",
   "metadata": {},
   "outputs": [],
   "source": [
    "def call(env,request,satellite, stats):\n",
    "    arrive = env.now\n",
    "    #print('Request %d arrives at the Satellite at minute %.2f.' % (request.number, arrive))\n",
    "    with satellite.request() as req:\n",
    "        yield req ##espero a que el satelite este libre para procesar la request\n",
    "        wait = env.now - arrive\n",
    "\n",
    "        if wait > stats.maxTimeWaiting:\n",
    "            stats.maxTimeWaiting = wait\n",
    "\n",
    "        #print('Request %d starts being processed at minute %.2f.' % (request.number,env.now))\n",
    "        yield env.process(request.process())\n",
    "        #print('Request %d leaves Satellite at minute %.2f.' % (request.number,env.now))"
   ]
  },
  {
   "cell_type": "code",
   "execution_count": null,
   "id": "adae32bb",
   "metadata": {},
   "outputs": [],
   "source": [
    "def source(env, satellite, stats, arrival_rate,random_func):\n",
    "    while True:\n",
    "\n",
    "        #random.expovariate(15) generates exponentially distributed random numbers in a poisson process with \n",
    "        #an averate rate of 15 arrivals per second. Generates the *inter*arrival times\n",
    "        t = random.expovariate(arrival_rate/60) #\n",
    "        yield env.timeout(t) ##simulo llegada de req\n",
    "        \n",
    "        request = Request(env,stats.requestCounter,random_func)\n",
    "        stats.requestCounter += 1\n",
    "\n",
    "        queue = len(satellite.queue) ##si hay requests esperando\n",
    "        if queue > stats.maxRequestsWaiting:\n",
    "            stats.maxRequestsWaiting = queue\n",
    "\n",
    "        env.process(call(env, request, satellite, stats))##call a ejecutar la request"
   ]
  },
  {
   "cell_type": "code",
   "execution_count": null,
   "id": "941166d2",
   "metadata": {},
   "outputs": [],
   "source": [
    "def run_sim(random_func):\n",
    "    averageMaxRequestsWaiting = []\n",
    "    averageMaxTimeWaiting = []\n",
    "    for i in range(TOTAL_SIM):\n",
    "        env = simpy.Environment()\n",
    "        stats = Stats()\n",
    "        satellite = simpy.Resource(env, capacity=1)\n",
    "        \n",
    "        env.process(source(env, satellite, stats,ARRIVAL_RATE,random_func))\n",
    "        env.run(until=MINUTES_IN_DAY)\n",
    "        \n",
    "        averageMaxRequestsWaiting.append(stats.maxRequestsWaiting)\n",
    "        averageMaxTimeWaiting.append(stats.maxTimeWaiting)\n",
    "    print('*********************************************************')\n",
    "    print('Cantidad de simulaciones: %d' % TOTAL_SIM)\n",
    "    #print('Cantidad max de req esperando: ', *averageMaxRequestsWaiting, sep = \", \")\n",
    "    #print('Tiempos maximos de espera: ', *averageMaxTimeWaiting, sep = \", \")\n",
    "    print('La cantidad máxima promedio de requests en fila esperando a ser procesadas es de %d' % np.mean(averageMaxRequestsWaiting))\n",
    "    print('El tiempo máximo promedio de espera en fila es de %d min' % np.mean(averageMaxTimeWaiting))"
   ]
  },
  {
   "cell_type": "code",
   "execution_count": null,
   "id": "5fdcf7bf",
   "metadata": {},
   "outputs": [],
   "source": [
    "run_sim(randOp.uniform_rand_seconds_in_day)"
   ]
  },
  {
   "cell_type": "code",
   "execution_count": null,
   "id": "07566470",
   "metadata": {},
   "outputs": [],
   "source": []
  }
 ],
 "metadata": {
  "kernelspec": {
   "display_name": "Python 3",
   "language": "python",
   "name": "python3"
  },
  "language_info": {
   "codemirror_mode": {
    "name": "ipython",
    "version": 3
   },
   "file_extension": ".py",
   "mimetype": "text/x-python",
   "name": "python",
   "nbconvert_exporter": "python",
   "pygments_lexer": "ipython3",
   "version": "3.8.8"
  }
 },
 "nbformat": 4,
 "nbformat_minor": 5
}

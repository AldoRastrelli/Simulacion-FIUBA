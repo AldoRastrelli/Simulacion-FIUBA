{
 "cells": [
  {
   "cell_type": "markdown",
   "id": "8d8f90b5",
   "metadata": {},
   "source": [
    "# TRABAJO PRACTICO N°2"
   ]
  },
  {
   "cell_type": "markdown",
   "id": "f1bcb1e6",
   "metadata": {},
   "source": [
    "## Ejercicio 1\n",
    "\n",
    "Basándose en los trabajos\n",
    "- Performance Modelling of Imaging Service or Earth Observation Satellites with Two-dimensional Markov\n",
    "Chain\n",
    "- Queuing theory application in imaging service analysis for small Earth observation satellites\n",
    "Se pide implementar las soluciones propuestas por los autores utilizando Cadenas de Markov, y Teoría de Colas,\n",
    "considerando:\n",
    "\n",
    "__a)__ Utilizar el generador de números al azar implementado en el Trabajo Práctico 1 para generar los números al\n",
    "azar utilizados en el ejercicio (comparar los resultados con los obtenidos si se utilizan los números al azar\n",
    "provistos por el lenguaje elegido).\n",
    "\n",
    "__b)__ Probar distintos escenarios\n",
    "\n",
    "__c) Opcional__: Comparar los resultados obtenidos, con los resultados que se obtendrían con un Generador\n",
    "Congruencial Lineal de módulo $2^{32}$, multiplicador 1013904223, incremento de 1664525 y semilla igual a la\n",
    "parte entera del promedio de los números de padrón de los integrantes del grupo"
   ]
  },
  {
   "cell_type": "markdown",
   "id": "6ed88bbc",
   "metadata": {},
   "source": [
    "### Resolucion Ejercicio 1"
   ]
  },
  {
   "cell_type": "code",
   "execution_count": 4,
   "id": "6e3654be",
   "metadata": {},
   "outputs": [],
   "source": [
    "import time"
   ]
  },
  {
   "cell_type": "markdown",
   "id": "9be4a80c",
   "metadata": {},
   "source": [
    "__GCL generado en el Trabajo Practico 1__"
   ]
  },
  {
   "cell_type": "code",
   "execution_count": 1,
   "id": "958fc65a",
   "metadata": {},
   "outputs": [],
   "source": [
    "# PAPER 1\n",
    "class xorshift:\n",
    "  max64bit = (2**64) \n",
    " \n",
    "  def __init__(self,seed):\n",
    "    self.seed = seed % self.max64bit\n",
    "\n",
    "  def rand(self):\n",
    "    # a=13 b=7 c=17\n",
    "    # Python no tiene limite de valores para int asi que aplico modulo de 64 bits\n",
    "    # para simular el comportamiento de C y tener periodo de (2^64 - 1) ----> Confirmado: Hay que imitar la implementacion del paper\n",
    "    self.seed = (self.seed ^ (self.seed << 13)) % self.max64bit\n",
    "    self.seed = (self.seed ^ (self.seed >> 7)) % self.max64bit\n",
    "    self.seed = (self.seed ^ (self.seed << 17)) % self.max64bit\n",
    "    \n",
    "    return self.seed\n",
    "\n",
    "  # Dividimos por el módulo para obtener valores en [0,1]\n",
    "  def uniform_rand(self):\n",
    "    return self.rand()/self.max64bit"
   ]
  },
  {
   "cell_type": "code",
   "execution_count": 5,
   "id": "8eac5868",
   "metadata": {},
   "outputs": [],
   "source": [
    "rng = xorshift(int(time.time()))\n",
    "df_rng = [rng.rand() for i in range(1000)]\n",
    "df_rng_uniform = [rng.uniform_rand() for i in range(1000)]"
   ]
  },
  {
   "cell_type": "markdown",
   "id": "5f9bbd02",
   "metadata": {},
   "source": [
    "**Generador opcional**\n",
    "\n",
    "Generador Congruencial Lineal (GCL) de módulo 232, multiplicador 1013904223, incremento de 1664525 y semilla igual a la parte entera del promedio de los números de padrón de los integrantes del grupo.\n",
    "\n",
    "El método Lineal Congruente funciona de la siguiente manera:\n",
    "\n",
    "<font size = 4> \n",
    "$$\n",
    "{X}_{n+1}=(aX_n + c)~mod~m, ~~~n>=0 \\\\\n",
    "m, ~the~ modulus, ~0<m\\\\\n",
    "a, ~the~ multiplier, ~0<=a<m\\\\\n",
    "c, ~the~ increment, ~0<=c<m\\\\\n",
    "X_0, ~the~ starting~ value, ~0<=X_0<m \\\\\n",
    "$$\n",
    "</font>\n",
    "\n",
    "A partir de esto generaremos el generador GCL con los datos provistos"
   ]
  },
  {
   "cell_type": "code",
   "execution_count": 8,
   "id": "b2c1b9ea",
   "metadata": {},
   "outputs": [],
   "source": [
    "class RandOp:\n",
    "    \n",
    "    # m:modulus\n",
    "    # a:multiplier\n",
    "    # c:increment\n",
    "    m = 2**32\n",
    "    a = 1013904223\n",
    "    c = 1664525\n",
    "    xn = int((97576+93956+104093+96444+98408)/5)\n",
    "    \n",
    "    def rand(self):\n",
    "        self.xn = (self.a*self.xn + self.c)%self.m\n",
    "        return self.xn\n",
    "    \n",
    "    # Dividimos por el módulo para obtener valores en [0,1]\n",
    "    def uniform_rand(self):\n",
    "        return self.rand()/self.m"
   ]
  },
  {
   "cell_type": "code",
   "execution_count": 9,
   "id": "a84fef9b",
   "metadata": {},
   "outputs": [],
   "source": [
    "randOp= RandOp()\n",
    "randoms= [randOp.rand() for i in range(1000)]\n",
    "randoms_uniform = [randOp.uniform_rand() for i in range(1000)]"
   ]
  },
  {
   "cell_type": "markdown",
   "id": "d7a15867",
   "metadata": {},
   "source": [
    "## Ejercicio 2\n",
    "Utilizar Simpy para simular una sección del ejercicio 1 a elección"
   ]
  },
  {
   "cell_type": "markdown",
   "id": "ecae80b4",
   "metadata": {},
   "source": [
    "### Resolucion Ejercicio 2"
   ]
  },
  {
   "cell_type": "code",
   "execution_count": null,
   "id": "05aaf769",
   "metadata": {},
   "outputs": [],
   "source": []
  },
  {
   "cell_type": "markdown",
   "id": "55d4238e",
   "metadata": {},
   "source": [
    "## Ejercicio 3\n",
    "Un servidor recibe solicitudes las cuales son procesadas de una por vez en el orden de llegada (política FIFO).\n",
    "Se determinó que en 10 milisegundos existe una probabilidad p =1/40 que llegue una nueva solicitud y una probabilidad q = 1/30 que una solicitud termine de ser procesada y deje el sistema.\n",
    "\n",
    "Se desea estudiar la cantidad de solicitudes en el servidor considerando tanto las que están en cola esperando ser\n",
    "procesadas como la solicitud que está siendo procesada.\n",
    "\n",
    "__a.__ Determine la matriz de transición de estados explicando cómo se obtiene la misma.\n",
    "\n",
    "__b.__ Utilizando Matlab, Octave o Python simule la evolución del sistema a lo largo de 1.000 segundos. Suponga que el\n",
    "sistema puede tener como máximo 30 estados posibles y que el servidor comienza sin estar procesando solicitudes.\n",
    "\n",
    "__c.__ Realice un gráfico mostrando la cantidad de solicitudes en el servidor en cada instante de tiempo.\n",
    "\n",
    "__d.__ Realice un histograma mostrando cuantas veces el sistema estuvo en cada estado.\n",
    "\n",
    "__e.__ Determine el % de tiempo que el servidor se encuentra sin procesar solicitudes."
   ]
  },
  {
   "cell_type": "markdown",
   "id": "fa6b043a",
   "metadata": {},
   "source": [
    "### Resolucion Ejercicio 3"
   ]
  },
  {
   "cell_type": "markdown",
   "id": "cad2248b",
   "metadata": {},
   "source": [
    "__a.__ Determine la matriz de transición de estados explicando cómo se obtiene la misma"
   ]
  },
  {
   "cell_type": "markdown",
   "id": "1cccb645",
   "metadata": {},
   "source": [
    "__b.__ Utilizando Matlab, Octave o Python simule la evolución del sistema a lo largo de 1.000 segundos. Suponga que el sistema puede tener como máximo 30 estados posibles y que el servidor comienza sin estar procesando solicitudes."
   ]
  },
  {
   "cell_type": "markdown",
   "id": "1979ffd6",
   "metadata": {},
   "source": [
    "__c.__ Realice un gráfico mostrando la cantidad de solicitudes en el servidor en cada instante de tiempo."
   ]
  },
  {
   "cell_type": "markdown",
   "id": "69289bf1",
   "metadata": {},
   "source": [
    "__d.__ Realice un histograma mostrando cuantas veces el sistema estuvo en cada estado."
   ]
  },
  {
   "cell_type": "markdown",
   "id": "6830f2e1",
   "metadata": {},
   "source": [
    "__e.__ Determine el % de tiempo que el servidor se encuentra sin procesar solicitudes."
   ]
  }
 ],
 "metadata": {
  "kernelspec": {
   "display_name": "Python 3",
   "language": "python",
   "name": "python3"
  },
  "language_info": {
   "codemirror_mode": {
    "name": "ipython",
    "version": 3
   },
   "file_extension": ".py",
   "mimetype": "text/x-python",
   "name": "python",
   "nbconvert_exporter": "python",
   "pygments_lexer": "ipython3",
   "version": "3.8.8"
  }
 },
 "nbformat": 4,
 "nbformat_minor": 5
}

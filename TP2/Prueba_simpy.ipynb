{
 "cells": [
  {
   "cell_type": "code",
   "execution_count": 12,
   "id": "86db8413",
   "metadata": {},
   "outputs": [
    {
     "name": "stdout",
     "output_type": "stream",
     "text": [
      "Requirement already satisfied: simpy in /home/eleonoraluna/anaconda3/lib/python3.8/site-packages (4.0.1)\r\n"
     ]
    }
   ],
   "source": [
    "!pip install simpy"
   ]
  },
  {
   "cell_type": "markdown",
   "id": "52b022d2",
   "metadata": {},
   "source": [
    "### Componentes de un modelo\n",
    "\n",
    "Podemos dividir los componentes de un modelo en:\n",
    "\n",
    "• __Componentes activos__\n",
    "\n",
    "Son los protagonistas de nuestro modelo, son los que\n",
    "interactuando con los distintos recursos de nuestro sistema, le\n",
    "dan vida al mismo.\n",
    "Por ejemplo:\n",
    "\n",
    "Clientes, autos, instrucciones de un procesador\n",
    "\n",
    "• __Componentes pasivos o recursos__\n",
    "\n",
    "Son los componentes que nuestros componentes activos\n",
    "utilizarán, “no tienen vida propia”.\n",
    "\n",
    "Por ejemplo:\n",
    "\n",
    "Un empleado, semáforos, un procesador"
   ]
  },
  {
   "cell_type": "markdown",
   "id": "d84bd4b6",
   "metadata": {},
   "source": [
    "### Componentes activos\n",
    "\n",
    "En Simpy, el comportamiento de los componentes activos es\n",
    "modelado utilizando funciones generadoras.\n",
    "Interactúan con el ambiente y con otros componentes, mediante\n",
    "eventos.\n",
    "\n",
    "\n",
    "### Funciones generadoras\n",
    "\n",
    "Son funciones que devuelven un iterador que puede ser utilizado en\n",
    "un ciclo.\n",
    "Utilizan la expresión yield con la cual se suspende la ejecución de la\n",
    "función en ese punto, guardando el ambiente de la misma:\n",
    "\n",
    "• Línea de ejecución\n",
    "\n",
    "• Variables locales\n",
    "\n",
    "• Try-statements"
   ]
  },
  {
   "cell_type": "code",
   "execution_count": 13,
   "id": "75dad04f",
   "metadata": {},
   "outputs": [],
   "source": [
    "import simpy as simpy"
   ]
  },
  {
   "cell_type": "code",
   "execution_count": 14,
   "id": "6e7cde2a",
   "metadata": {},
   "outputs": [],
   "source": [
    "def pares():\n",
    "    index=1\n",
    "    while index<=10:\n",
    "        yield index *2\n",
    "        index=index+1"
   ]
  },
  {
   "cell_type": "code",
   "execution_count": 15,
   "id": "21608733",
   "metadata": {},
   "outputs": [
    {
     "name": "stdout",
     "output_type": "stream",
     "text": [
      "2\n",
      "4\n",
      "6\n",
      "8\n",
      "10\n",
      "12\n",
      "14\n",
      "16\n",
      "18\n",
      "20\n"
     ]
    }
   ],
   "source": [
    "for i in pares():\n",
    "    print (i)"
   ]
  },
  {
   "cell_type": "markdown",
   "id": "00882c09",
   "metadata": {},
   "source": [
    "### Ambiente\n",
    "\n",
    "Es el encargado de manejar el tiempo de simulación, como así\n",
    "también la programación y ejecución de los eventos.\n",
    "\n",
    "Clases: BaseEnvironment, Environment, RealTimeEnvironment\n",
    "\n",
    "Guarda los eventos en una lista (_queue) ordenados por:\n",
    "\n",
    "• Prioridad\n",
    "\n",
    "• Momento en el cual deben volver a actuar\n",
    "\n",
    "• Event Id decreciente\n",
    "\n",
    "Método más importante\n",
    "\n",
    "__Environment.run(until=None)__"
   ]
  },
  {
   "cell_type": "markdown",
   "id": "6b0e7b77",
   "metadata": {},
   "source": [
    "Environment nos brinda algunas propiedades para conocer su\n",
    "estado:\n",
    "\n",
    "• __Environment.now__ : Devuelve el momento actual de simulación.\n",
    "\n",
    "• __Environment.peek()__: Devuelve el próximo momento en el que\n",
    "ocurrirá un evento.\n",
    "\n",
    "• __Environment.active_process:__ Devuelve “None” o apunta al\n",
    "proceso actualmente activo. Un proceso está activo cuando su\n",
    "función de proceso se está ejecutando, se vuelve inactivo (o\n",
    "suspendido) cuando se produce un evento."
   ]
  },
  {
   "cell_type": "markdown",
   "id": "408d7fb7",
   "metadata": {},
   "source": [
    "### Eventos\n",
    "\n",
    "Existen diversas formas de sincronizar procesos, una de ellas es el\n",
    "lanzamiento de eventos\n",
    "\n",
    "Cuando un evento es lanzado, se programa para ocurrir en un\n",
    "determinado instante de tiempo y es insertado en la lista de eventos\n",
    "del ambiente de simulación (event queue).\n",
    "\n",
    "El proceso que lanzó dicho proceso se suspende y será reanudado cuando el evento generado ocurra.\n",
    "En caso de que múltiples procesos esperen el mismo evento, serán reanudados en el mismo orden en que produjeron ese evento.\n",
    "\n",
    "Pueden estar en alguno de los siguientes estados:\n",
    "\n",
    "• No lanzado\n",
    "\n",
    "• Lanzado\n",
    "\n",
    "• Procesado"
   ]
  },
  {
   "cell_type": "markdown",
   "id": "b19728c6",
   "metadata": {},
   "source": [
    "### Control de la simulación\n",
    "\n",
    "Toda simulación debe tener un criterio por el cual finalizar\n",
    "\n",
    "• Simular hasta llegar a un momento determinado\n",
    "Simular 10 horas\n",
    "\n",
    "• Simular hasta que no queden eventos por ejecutar\n",
    "Simular hasta que todos los clientes se hayan retirado de una\n",
    "oficina\n",
    "\n",
    "• Simular hasta que se ejecute un evento en particular\n",
    "Simular hasta que la cantidad de requerimientos recibidos por un\n",
    "servidor lleguen a 1000"
   ]
  },
  {
   "cell_type": "code",
   "execution_count": 16,
   "id": "45c77376",
   "metadata": {},
   "outputs": [],
   "source": [
    "def caminante(env):\n",
    "    while True:\n",
    "        t_caminata = 10\n",
    "        yield env.timeout(t_caminata)\n",
    "        print('Fin caminata a los %d min' % env.now)\n",
    "        t_descanso = 2\n",
    "        yield env.timeout(t_descanso)\n",
    "        print('Fin descanso a los %d min' % env.now)"
   ]
  },
  {
   "cell_type": "code",
   "execution_count": 24,
   "id": "b0c9660e",
   "metadata": {},
   "outputs": [
    {
     "name": "stdout",
     "output_type": "stream",
     "text": [
      "Fin caminata a los 10 min\n",
      "Fin descanso a los 12 min\n",
      "Fin caminata a los 22 min\n"
     ]
    }
   ],
   "source": [
    "env = simpy.Environment()\n",
    "env.process(caminante(env))\n",
    "env.run(until=24) #simula 24 unidades de tiempo"
   ]
  },
  {
   "cell_type": "code",
   "execution_count": 18,
   "id": "ee9691f3",
   "metadata": {},
   "outputs": [],
   "source": [
    "def reloj(env):\n",
    "    yield env.timeout(24)"
   ]
  },
  {
   "cell_type": "code",
   "execution_count": 21,
   "id": "6a3dce6f",
   "metadata": {
    "scrolled": true
   },
   "outputs": [
    {
     "name": "stdout",
     "output_type": "stream",
     "text": [
      "Fin caminata a los 10 min\n",
      "Fin descanso a los 12 min\n",
      "Fin caminata a los 22 min\n",
      "Fin descanso a los 24 min\n"
     ]
    }
   ],
   "source": [
    "env = simpy.Environment()\n",
    "\n",
    "env.process(caminante(env))\n",
    "env.run(env.process(reloj(env))) #simula por tiempo utilizando eventos"
   ]
  },
  {
   "cell_type": "code",
   "execution_count": 32,
   "id": "18d6e052",
   "metadata": {},
   "outputs": [],
   "source": [
    "from random import randint"
   ]
  },
  {
   "cell_type": "code",
   "execution_count": 35,
   "id": "e24899cc",
   "metadata": {},
   "outputs": [],
   "source": [
    "class semaforo:\n",
    "    def __init__(self, env):\n",
    "        self.env = env\n",
    "        \n",
    "    def verde(self):\n",
    "        yield self.env.timeout(randint(40,70))\n",
    "        print('Semaforo verde a los %d min' % env.now)"
   ]
  },
  {
   "cell_type": "code",
   "execution_count": 36,
   "id": "80b0307a",
   "metadata": {},
   "outputs": [],
   "source": [
    "class peaton:\n",
    "    def __init__(self, env):\n",
    "        self.env = env\n",
    "        \n",
    "    def cruzar(self):\n",
    "        yield self.env.timeout(randint(45,55))\n",
    "        print('Cruce de peaton a los %d min' % env.now)"
   ]
  },
  {
   "cell_type": "code",
   "execution_count": 37,
   "id": "a23094c7",
   "metadata": {},
   "outputs": [],
   "source": [
    "class auto:\n",
    "    def __init__(self, env, s, p):\n",
    "        self.env = env\n",
    "        self.drive_proc = env.process(self.manejar(s,p))\n",
    "        \n",
    "    def manejar(self, s, p):\n",
    "        cruce=self.env.process(p.cruzar())\n",
    "        semaf=self.env.process(s.verde())\n",
    "        yield cruce & semaf #espera a que terminen los dos eventos\n",
    "        print('Avanza auto a los %d min' % env.now)"
   ]
  },
  {
   "cell_type": "code",
   "execution_count": 38,
   "id": "5aceb51e",
   "metadata": {},
   "outputs": [
    {
     "name": "stdout",
     "output_type": "stream",
     "text": [
      "Cruce de peaton a los 48 min\n",
      "Semaforo verde a los 60 min\n",
      "Avanza auto a los 60 min\n"
     ]
    }
   ],
   "source": [
    "env = simpy.Environment()\n",
    "\n",
    "p=peaton(env)\n",
    "s=semaforo(env)\n",
    "\n",
    "mi_auto = auto(env,s,p)\n",
    "env.run()"
   ]
  },
  {
   "cell_type": "markdown",
   "id": "f7f8c414",
   "metadata": {},
   "source": [
    "### Resources\n",
    "\n",
    "Pueden ser usados por un número limitado de procesos a la vez\n",
    "\n",
    "Creacion: Resource(environment, capacity=1)"
   ]
  },
  {
   "cell_type": "markdown",
   "id": "50dedf6a",
   "metadata": {},
   "source": [
    "Los componentes activos o procesos:\n",
    "\n",
    "• __Solicitan (request)__ el recurso y se convierten en dueños,\n",
    "haciendo uso del mismo.\n",
    "\n",
    "• __Liberan (release)__ el recurso, una vez que los hayan terminado\n",
    "de utilizar."
   ]
  },
  {
   "cell_type": "markdown",
   "id": "f6cb7eba",
   "metadata": {},
   "source": [
    "Ejemplo __liberacion manual__"
   ]
  },
  {
   "cell_type": "code",
   "execution_count": 42,
   "id": "04e0e7fc",
   "metadata": {},
   "outputs": [],
   "source": [
    "empleado = simpy.Resource(env,capacity=1)"
   ]
  },
  {
   "cell_type": "code",
   "execution_count": 43,
   "id": "5aa9e67e",
   "metadata": {},
   "outputs": [],
   "source": [
    "def atencion(env, empleado):\n",
    "    t_atencion = 60\n",
    "    emp = empleado.request()\n",
    "    yield emp #espero el acceso al recurso\n",
    "    yield env.timeout(t_atencion)\n",
    "    emp.release()\n",
    "    print('Fin atención a los %d min' % env.now)"
   ]
  },
  {
   "cell_type": "code",
   "execution_count": null,
   "id": "57f0a3a6",
   "metadata": {},
   "outputs": [],
   "source": [
    "env = simpy.Environment()\n",
    "empleado = simpy.Resource(env,capacity=1)\n",
    "env.process(atencion(env,empleado))\n",
    "env.run()"
   ]
  },
  {
   "cell_type": "markdown",
   "id": "578b7aef",
   "metadata": {},
   "source": [
    "Ejemplo __liberacion automatica__"
   ]
  },
  {
   "cell_type": "code",
   "execution_count": 45,
   "id": "e2771461",
   "metadata": {},
   "outputs": [],
   "source": [
    "def atencion(env, empleado):\n",
    "    t_atencion = 60\n",
    "    with empleado.request() as emp:\n",
    "        yield emp\n",
    "        yield env.timeout(t_atencion)\n",
    "        print('Fin atención a los %d min' % env.now)"
   ]
  },
  {
   "cell_type": "code",
   "execution_count": 46,
   "id": "7500d60e",
   "metadata": {},
   "outputs": [
    {
     "name": "stdout",
     "output_type": "stream",
     "text": [
      "Fin atención a los 60 min\n"
     ]
    }
   ],
   "source": [
    "env = simpy.Environment()\n",
    "empleado = simpy.Resource(env,capacity=1)\n",
    "env.process(atencion(env,empleado))\n",
    "env.run()"
   ]
  },
  {
   "cell_type": "markdown",
   "id": "947d4bb7",
   "metadata": {},
   "source": [
    "Algunas propiedades de los recursos\n",
    "\n",
    "Resources nos brindan algunas propiedades para conocer su estado:\n",
    "\n",
    "• __Resource.count:__ retorna la cantidad actual de usuarios usando el\n",
    "recurso.\n",
    "\n",
    "• __Resource.capacity:__ retorna la capacidad del recurso.\n",
    "\n",
    "• __Resource.users:__ retorna los usuarios actuales que estén usando\n",
    "el recurso.\n",
    "\n",
    "• __Resource.queue:__ retorna los usuarios que se encuentran\n",
    "esperando en la cola para hacer uso del recurso."
   ]
  },
  {
   "cell_type": "code",
   "execution_count": null,
   "id": "30b5a626",
   "metadata": {},
   "outputs": [],
   "source": []
  },
  {
   "cell_type": "code",
   "execution_count": null,
   "id": "497d0a0f",
   "metadata": {},
   "outputs": [],
   "source": []
  }
 ],
 "metadata": {
  "kernelspec": {
   "display_name": "Python 3",
   "language": "python",
   "name": "python3"
  },
  "language_info": {
   "codemirror_mode": {
    "name": "ipython",
    "version": 3
   },
   "file_extension": ".py",
   "mimetype": "text/x-python",
   "name": "python",
   "nbconvert_exporter": "python",
   "pygments_lexer": "ipython3",
   "version": "3.8.8"
  }
 },
 "nbformat": 4,
 "nbformat_minor": 5
}
